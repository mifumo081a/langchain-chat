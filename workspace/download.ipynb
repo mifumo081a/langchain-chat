{
 "cells": [
  {
   "cell_type": "code",
   "execution_count": null,
   "id": "628369cf-ac07-4e67-b6e6-fa14c383edbc",
   "metadata": {
    "tags": []
   },
   "outputs": [],
   "source": [
    "!ls"
   ]
  },
  {
   "cell_type": "code",
   "execution_count": null,
   "id": "97ee86c9-3825-40b3-a173-bd71b5fc9601",
   "metadata": {
    "tags": []
   },
   "outputs": [],
   "source": [
    "!zip -r download_lab.zip *"
   ]
  },
  {
   "cell_type": "code",
   "execution_count": null,
   "id": "2b844df5-68e7-4c25-be63-d20922d99b1d",
   "metadata": {},
   "outputs": [],
   "source": []
  }
 ],
 "metadata": {
  "kernelspec": {
   "display_name": "Python 3 (ipykernel)",
   "language": "python",
   "name": "python3"
  },
  "language_info": {
   "codemirror_mode": {
    "name": "ipython",
    "version": 3
   },
   "file_extension": ".py",
   "mimetype": "text/x-python",
   "name": "python",
   "nbconvert_exporter": "python",
   "pygments_lexer": "ipython3",
   "version": "3.9.16"
  }
 },
 "nbformat": 4,
 "nbformat_minor": 5
}
