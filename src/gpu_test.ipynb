{
 "cells": [
  {
   "cell_type": "code",
   "execution_count": null,
   "id": "a9807697",
   "metadata": {},
   "outputs": [],
   "source": [
    "!if test $(nvidia-smi | wc -w) -eq 0; then echo \"CUDA can not be executed\"; else nvidia-smi; fi"
   ]
  },
  {
   "cell_type": "code",
   "execution_count": null,
   "id": "c4534652-4b1a-4818-a5a8-6ef314feca17",
   "metadata": {
    "tags": []
   },
   "outputs": [],
   "source": [
    "import torch"
   ]
  },
  {
   "cell_type": "code",
   "execution_count": null,
   "id": "ac564703-fa71-46a2-8125-62b8e7a00a80",
   "metadata": {
    "tags": []
   },
   "outputs": [],
   "source": [
    "torch.cuda.is_available()"
   ]
  }
 ],
 "metadata": {
  "kernelspec": {
   "display_name": "Python 3 (ipykernel)",
   "language": "python",
   "name": "python3"
  },
  "language_info": {
   "codemirror_mode": {
    "name": "ipython",
    "version": 3
   },
   "file_extension": ".py",
   "mimetype": "text/x-python",
   "name": "python",
   "nbconvert_exporter": "python",
   "pygments_lexer": "ipython3",
   "version": "3.9.17"
  }
 },
 "nbformat": 4,
 "nbformat_minor": 5
}
